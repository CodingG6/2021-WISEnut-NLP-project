{
  "nbformat": 4,
  "nbformat_minor": 0,
  "metadata": {
    "colab": {
      "name": " Word2Vec (Tacademy) .ipynb",
      "provenance": [],
      "collapsed_sections": [],
      "toc_visible": true
    },
    "kernelspec": {
      "name": "python3",
      "display_name": "Python 3"
    },
    "language_info": {
      "name": "python"
    }
  },
  "cells": [
    {
      "cell_type": "code",
      "metadata": {
        "id": "Tqs2mRog9myl"
      },
      "source": [
        "import random\n",
        "import numpy as np\n",
        "from sklearn.preprocessing import OneHotEncoder"
      ],
      "execution_count": 23,
      "outputs": []
    },
    {
      "cell_type": "code",
      "metadata": {
        "colab": {
          "base_uri": "https://localhost:8080/"
        },
        "id": "mqO96Zv69Fy1",
        "outputId": "949d7d1e-af98-4299-a5d9-8f3dc4019a8c"
      },
      "source": [
        "sent = \"you say good by and I say hello\"\n",
        "words = sent.split(\" \")\n",
        "words"
      ],
      "execution_count": 14,
      "outputs": [
        {
          "output_type": "execute_result",
          "data": {
            "text/plain": [
              "['you', 'say', 'good', 'by', 'and', 'I', 'say', 'hello']"
            ]
          },
          "metadata": {},
          "execution_count": 14
        }
      ]
    },
    {
      "cell_type": "markdown",
      "metadata": {
        "id": "W8QBo8TEBSmL"
      },
      "source": [
        "# Word2Vec\n",
        "추론기반의 방법\n",
        "\n",
        "$MatMul$ $\\rightarrow$ $Softmax$ $\\rightarrow$ $Cross$ $Entropy$ $Error$ $\\rightarrow$ $Loss$  \n",
        "($W_o$$_u$$_t$)"
      ]
    },
    {
      "cell_type": "markdown",
      "metadata": {
        "id": "jxZI4PpbBazL"
      },
      "source": [
        "## 2.One Hot Vector 형태의 입력값을 Win과 곱"
      ]
    },
    {
      "cell_type": "code",
      "metadata": {
        "id": "aYBY8766_YiO"
      },
      "source": [
        "input1 = np.array([[1, 0, 0, 0, 0, 0, 0]]) # You\n",
        "input2 = np.array([[0, 0, 1, 0, 0, 0, 0]])"
      ],
      "execution_count": 18,
      "outputs": []
    },
    {
      "cell_type": "code",
      "metadata": {
        "colab": {
          "base_uri": "https://localhost:8080/"
        },
        "id": "e6Kc8_-0_gvZ",
        "outputId": "693f8420-0cee-47b7-e958-8218dba624cb"
      },
      "source": [
        "random.seed(42)\n",
        "\n",
        "# (input x dimension size) = choose the dimension size yourself.\n",
        "W_in = np.random.randn(7, 3)\n",
        "W_in"
      ],
      "execution_count": 24,
      "outputs": [
        {
          "output_type": "execute_result",
          "data": {
            "text/plain": [
              "array([[ 0.45390396, -0.46723849,  1.19417119],\n",
              "       [ 0.24201282,  0.09550312,  1.3573311 ],\n",
              "       [-1.55918386, -0.76461944,  0.42788491],\n",
              "       [-1.92830391, -1.22788364,  1.344552  ],\n",
              "       [ 1.10358013,  0.18851949,  0.13372865],\n",
              "       [-0.73367621, -0.96367713,  0.64497318],\n",
              "       [-0.71071827,  0.21414537, -0.07345437]])"
            ]
          },
          "metadata": {},
          "execution_count": 24
        }
      ]
    },
    {
      "cell_type": "code",
      "metadata": {
        "colab": {
          "base_uri": "https://localhost:8080/"
        },
        "id": "kTqWXekV_u9n",
        "outputId": "07d8673b-1135-4992-8e53-3fd9f3bd8ae8"
      },
      "source": [
        "h_1 = np.matmul(input1, W_in)   # hidden layer\n",
        "h_2 = np.matmul(input2, W_in)   # hidden layer\n",
        "\n",
        "print(h_1)\n",
        "print(h_2)"
      ],
      "execution_count": 26,
      "outputs": [
        {
          "output_type": "stream",
          "name": "stdout",
          "text": [
            "[[ 0.45390396 -0.46723849  1.19417119]]\n",
            "[[-1.55918386 -0.76461944  0.42788491]]\n"
          ]
        }
      ]
    },
    {
      "cell_type": "code",
      "metadata": {
        "colab": {
          "base_uri": "https://localhost:8080/"
        },
        "id": "zDkdp8ag_3Q_",
        "outputId": "aa6aefaf-70ec-405b-a3cf-4a51fa3d3d91"
      },
      "source": [
        "print((h_1+h_2)/2)"
      ],
      "execution_count": 21,
      "outputs": [
        {
          "output_type": "stream",
          "name": "stdout",
          "text": [
            "[[-1.22291247  0.00921342 -1.0041676 ]]\n"
          ]
        }
      ]
    },
    {
      "cell_type": "code",
      "metadata": {
        "colab": {
          "base_uri": "https://localhost:8080/"
        },
        "id": "bAwsOzdqA467",
        "outputId": "d6014a9f-7c99-439c-b956-4d942722087f"
      },
      "source": [
        "# with rounded numbers\n",
        "W_in_rounded = np.round(W_in, 2)\n",
        "h_1_rounded = np.matmul(input1, W_in_rounded)\n",
        "h_2_rounded = np.matmul(input2, W_in_rounded)\n",
        "\n",
        "print(h_1_rounded)\n",
        "print(h_2_rounded)"
      ],
      "execution_count": 30,
      "outputs": [
        {
          "output_type": "stream",
          "name": "stdout",
          "text": [
            "[[ 0.45 -0.47  1.19]]\n",
            "[[-1.56 -0.76  0.43]]\n"
          ]
        }
      ]
    },
    {
      "cell_type": "markdown",
      "metadata": {
        "id": "uFwU4Q5sBiLj"
      },
      "source": [
        "## 3.은닉 상태(Hidden state)의 값을 W_out과 곱해서 score를 추출"
      ]
    },
    {
      "cell_type": "code",
      "metadata": {
        "colab": {
          "base_uri": "https://localhost:8080/"
        },
        "id": "bpp6MGGaAL0y",
        "outputId": "9b6e33c7-326d-48aa-d531-1e2d71879782"
      },
      "source": [
        "# 초기 weight 는 며느리도 모름. Random하게 -_-)..\n",
        "W_out = np.random.randn(3, 7)\n",
        "np.round(W_out, 2)"
      ],
      "execution_count": 31,
      "outputs": [
        {
          "output_type": "execute_result",
          "data": {
            "text/plain": [
              "array([[ 0.56,  0.65,  0.75,  0.64,  2.45,  1.41,  0.2 ],\n",
              "       [-0.07,  0.8 ,  0.2 , -1.07, -0.27,  1.47,  0.88],\n",
              "       [-1.28,  2.  ,  1.19, -0.93, -0.7 , -0.58,  1.66]])"
            ]
          },
          "metadata": {},
          "execution_count": 31
        }
      ]
    },
    {
      "cell_type": "markdown",
      "metadata": {
        "id": "LrqopYlzJ7bw"
      },
      "source": [
        "## 4.Softmax(score) \n",
        "Score에 softmax를 취해서 각 단어가 나올 확률을 계산."
      ]
    },
    {
      "cell_type": "markdown",
      "metadata": {
        "id": "tuS48BA7LHH4"
      },
      "source": [
        "$y_k$ = $\\frac{exp(a_k)}{\\sum_{i=1}^{n}exp(a_i)}$\n",
        "\n",
        "The sum of all softmax values is 1. $Softmax$ reflects the property of probability."
      ]
    },
    {
      "cell_type": "code",
      "metadata": {
        "colab": {
          "base_uri": "https://localhost:8080/"
        },
        "id": "W4bnqMPlB-n7",
        "outputId": "e6e033cf-5236-4de1-e54f-e9d48f0968d6"
      },
      "source": [
        "h = h_1 + h_2\n",
        "score = np.matmul(h, W_out)\n",
        "max = np.max(score)\n",
        "idx = np.where(score == max)\n",
        "\n",
        "print(f'final hidden layer: {h}')\n",
        "print(f'score: {np.round(score, 3)}')\n",
        "print(f'score max: {np.round(max,3)} at pos {idx}')"
      ],
      "execution_count": 47,
      "outputs": [
        {
          "output_type": "stream",
          "name": "stdout",
          "text": [
            "final hidden layer: [[-1.10527991 -1.23185794  1.6220561 ]]\n",
            "score: [[-2.611  1.549  0.854 -0.901 -3.499 -4.31   1.389]]\n",
            "score max: 1.549 at pos (array([0]), array([1]))\n"
          ]
        }
      ]
    },
    {
      "cell_type": "code",
      "metadata": {
        "colab": {
          "base_uri": "https://localhost:8080/"
        },
        "id": "3FC4dTR8J6tK",
        "outputId": "3a39c26e-03c7-4b7f-c33b-138b33f9e30b"
      },
      "source": [
        "def softmax(x):\n",
        "    exp_x = np.exp(x)           # get exponents of x for base e.\n",
        "    sum_exp_x = np.sum(exp_x)   # merge exponent values into a sum\n",
        "    y = exp_x / sum_exp_x       # for each exponent value x, divide it by the sum of all exponents.\n",
        "    return y\n",
        "\n",
        "softmax(score)"
      ],
      "execution_count": 55,
      "outputs": [
        {
          "output_type": "execute_result",
          "data": {
            "text/plain": [
              "array([[0.00634187, 0.4060328 , 0.20275529, 0.0350664 , 0.00260916,\n",
              "        0.00115947, 0.34603501]])"
            ]
          },
          "metadata": {},
          "execution_count": 55
        }
      ]
    },
    {
      "cell_type": "code",
      "metadata": {
        "colab": {
          "base_uri": "https://localhost:8080/"
        },
        "id": "3vErl5jVJ21y",
        "outputId": "e7199c4b-b395-4c42-d735-a7cdb2c97393"
      },
      "source": [
        "pred = softmax(score)\n",
        "print(np.round(pred, 4))\n",
        "\n",
        "pred_max = np.max(pred)\n",
        "max_idx = np.where(pred == pred_max)\n",
        "print(max_idx)"
      ],
      "execution_count": 57,
      "outputs": [
        {
          "output_type": "stream",
          "name": "stdout",
          "text": [
            "[[0.0063 0.406  0.2028 0.0351 0.0026 0.0012 0.346 ]]\n",
            "(array([0]), array([1]))\n"
          ]
        }
      ]
    },
    {
      "cell_type": "markdown",
      "metadata": {
        "id": "RFVYV1TyOHtX"
      },
      "source": [
        "## 5.정답과 Cross Entropy Loss 계산\n",
        "$-\\frac{1}{N}\\sum_{i=1}^{N}\\sum_{j=1}^{N}t_i,_jlog(p_i,_j)$"
      ]
    },
    {
      "cell_type": "code",
      "metadata": {
        "id": "I2e-Wc6wKjNm"
      },
      "source": [
        "# Cross Entropy Loss\n",
        "\n",
        "def cross_entropy_error(y, t):\n",
        "    '''\n",
        "    y : prediction\n",
        "    t : target\n",
        "    '''\n",
        "    delta = 1e-7    # log의 내부가 0이 되는 것을 방지\n",
        "\n",
        "    # y.shape[0]으로 나눠주는 이유는 배치 사이즈 반영\n",
        "    return -np.sum(t * np.log(y + delta)) / y.shape[0]"
      ],
      "execution_count": 58,
      "outputs": []
    },
    {
      "cell_type": "code",
      "metadata": {
        "colab": {
          "base_uri": "https://localhost:8080/"
        },
        "id": "ibwTpZ88PpeR",
        "outputId": "01fceb08-3e44-4de8-8176-fcb5feb1a80b"
      },
      "source": [
        "cross_entropy_error(pred, [[0, 1, 0, 0, 0, 0, 0]])"
      ],
      "execution_count": 59,
      "outputs": [
        {
          "output_type": "execute_result",
          "data": {
            "text/plain": [
              "0.9013210951205277"
            ]
          },
          "metadata": {},
          "execution_count": 59
        }
      ]
    },
    {
      "cell_type": "markdown",
      "metadata": {
        "id": "Ik-3NcW_QIw-"
      },
      "source": [
        "## 6.5에서 계산한 loss를 가지고 back-propagation 과정을 통해 weight 업데이트\n",
        "- Softmax의 backpropagation values $(P_i - y_i)$\n",
        "    - ```dw_out(Delta for W_out) = np.outer(Hidden Layers, ds)```\n"
      ]
    },
    {
      "cell_type": "code",
      "metadata": {
        "colab": {
          "base_uri": "https://localhost:8080/"
        },
        "id": "WhMy74XMP8su",
        "outputId": "490aa07d-c37e-4017-bb0e-be15a26a5ccf"
      },
      "source": [
        "# Loss를 통해 weight를 업데이트\n",
        "# Softmax의 미분값\n",
        "# ds = Pi - yi \n",
        "answer = [0, 1, 0, 0, 0, 0, 0]\n",
        "ds = np.round(pred - answer, 4)\n",
        "print(ds)"
      ],
      "execution_count": 64,
      "outputs": [
        {
          "output_type": "stream",
          "name": "stdout",
          "text": [
            "[[ 0.0063 -0.594   0.2028  0.0351  0.0026  0.0012  0.346 ]]\n"
          ]
        }
      ]
    },
    {
      "cell_type": "code",
      "metadata": {
        "colab": {
          "base_uri": "https://localhost:8080/"
        },
        "id": "DUEzEV9JQfWl",
        "outputId": "72e2720a-8fbd-4b62-8e0c-b3f0f303f991"
      },
      "source": [
        "# ds (Delta for W_out) 계산\n",
        "dW_out = np.outer(h, ds)   # 소프트맥스에서 발생한 delta 값에 대해 역전파를 취하면 \n",
        "print(np.round(dW_out, 4))"
      ],
      "execution_count": 65,
      "outputs": [
        {
          "output_type": "stream",
          "name": "stdout",
          "text": [
            "[[-0.007   0.6565 -0.2242 -0.0388 -0.0029 -0.0013 -0.3824]\n",
            " [-0.0078  0.7317 -0.2498 -0.0432 -0.0032 -0.0015 -0.4262]\n",
            " [ 0.0102 -0.9635  0.329   0.0569  0.0042  0.0019  0.5612]]\n"
          ]
        }
      ]
    },
    {
      "cell_type": "code",
      "metadata": {
        "colab": {
          "base_uri": "https://localhost:8080/"
        },
        "id": "1NsQTr0fSm4N",
        "outputId": "a59f37cc-85e1-4acd-f689-5f3f9b974a48"
      },
      "source": [
        "# Hidden layer 에 대한 역전파 값을 계산\n",
        "da = np.dot(ds, W_out.T)\n",
        "print(np.round(da, 4))"
      ],
      "execution_count": 66,
      "outputs": [
        {
          "output_type": "stream",
          "name": "stdout",
          "text": [
            "[[-0.1289 -0.1621 -0.4134]]\n"
          ]
        }
      ]
    },
    {
      "cell_type": "code",
      "metadata": {
        "colab": {
          "base_uri": "https://localhost:8080/"
        },
        "id": "9IVVpYUpSrQ6",
        "outputId": "bdd70a01-98f6-4ef4-87e4-93b6d6752c7d"
      },
      "source": [
        "dw_1 = np.round(np.outer(np.array([[1, 0, 0, 0, 0, 0, 0]]), (da/2)), 4)\n",
        "print(dw_1)"
      ],
      "execution_count": 67,
      "outputs": [
        {
          "output_type": "stream",
          "name": "stdout",
          "text": [
            "[[-0.0644 -0.081  -0.2067]\n",
            " [-0.     -0.     -0.    ]\n",
            " [-0.     -0.     -0.    ]\n",
            " [-0.     -0.     -0.    ]\n",
            " [-0.     -0.     -0.    ]\n",
            " [-0.     -0.     -0.    ]\n",
            " [-0.     -0.     -0.    ]]\n"
          ]
        }
      ]
    },
    {
      "cell_type": "code",
      "metadata": {
        "colab": {
          "base_uri": "https://localhost:8080/"
        },
        "id": "hzTODiFjTITN",
        "outputId": "da98d3df-64cf-482b-e191-7bf6696974b3"
      },
      "source": [
        "dw_2 = np.round(np.outer(np.array([[0, 0, 1, 0, 0, 0, 0]]), (da/2)), 4)\n",
        "print(dw_2)"
      ],
      "execution_count": 68,
      "outputs": [
        {
          "output_type": "stream",
          "name": "stdout",
          "text": [
            "[[-0.     -0.     -0.    ]\n",
            " [-0.     -0.     -0.    ]\n",
            " [-0.0644 -0.081  -0.2067]\n",
            " [-0.     -0.     -0.    ]\n",
            " [-0.     -0.     -0.    ]\n",
            " [-0.     -0.     -0.    ]\n",
            " [-0.     -0.     -0.    ]]\n"
          ]
        }
      ]
    },
    {
      "cell_type": "markdown",
      "metadata": {
        "id": "_QyvqKAQUL43"
      },
      "source": [
        "Weight 값은 10회, 100회 등 반복해주면서 손질.   \n",
        "- $W\\ in\\ new = W\\ in - learning\\ rate * dw\\ in$"
      ]
    },
    {
      "cell_type": "code",
      "metadata": {
        "colab": {
          "base_uri": "https://localhost:8080/"
        },
        "id": "WSZul2o1TPvF",
        "outputId": "f29af4ab-015d-4515-c181-b9576520a51a"
      },
      "source": [
        "learning_rate = 1\n",
        "W_in_new = W_in - learning_rate * dw_1\n",
        "W_in_new = W_in_new - learning_rate * dw_2\n",
        "print(np.round(W_in_new, 4))"
      ],
      "execution_count": 69,
      "outputs": [
        {
          "output_type": "stream",
          "name": "stdout",
          "text": [
            "[[ 0.5183 -0.3862  1.4009]\n",
            " [ 0.242   0.0955  1.3573]\n",
            " [-1.4948 -0.6836  0.6346]\n",
            " [-1.9283 -1.2279  1.3446]\n",
            " [ 1.1036  0.1885  0.1337]\n",
            " [-0.7337 -0.9637  0.645 ]\n",
            " [-0.7107  0.2141 -0.0735]]\n"
          ]
        }
      ]
    },
    {
      "cell_type": "code",
      "metadata": {
        "colab": {
          "base_uri": "https://localhost:8080/"
        },
        "id": "kJpRjMWaUcXO",
        "outputId": "9fed8f55-b2bd-47a4-9bc3-9f1edf629e34"
      },
      "source": [
        "print(np.round(W_in, 4))"
      ],
      "execution_count": 70,
      "outputs": [
        {
          "output_type": "stream",
          "name": "stdout",
          "text": [
            "[[ 0.4539 -0.4672  1.1942]\n",
            " [ 0.242   0.0955  1.3573]\n",
            " [-1.5592 -0.7646  0.4279]\n",
            " [-1.9283 -1.2279  1.3446]\n",
            " [ 1.1036  0.1885  0.1337]\n",
            " [-0.7337 -0.9637  0.645 ]\n",
            " [-0.7107  0.2141 -0.0735]]\n"
          ]
        }
      ]
    },
    {
      "cell_type": "markdown",
      "metadata": {
        "id": "6K2PBezsVduM"
      },
      "source": [
        "# Skip-gram"
      ]
    },
    {
      "cell_type": "markdown",
      "metadata": {
        "id": "SI0n5-JJVhkE"
      },
      "source": [
        "## 2.One Hot Vector 형태의 입력값을 $W_i$$_n$과 곱"
      ]
    },
    {
      "cell_type": "code",
      "metadata": {
        "id": "8fQ82kH7Vfgc"
      },
      "source": [
        "# 입력값은 원-핫 벡터 형태 \n",
        "input = np.array([[0, 1, 0, 0, 0, 0, 0]]) # say\n",
        "\n",
        "output1 = np.array([[1, 0, 0, 0, 0, 0, 0]]) # you\n",
        "output2 = np.array([[0, 0, 1, 0, 0, 0, 0]])"
      ],
      "execution_count": 71,
      "outputs": []
    },
    {
      "cell_type": "code",
      "metadata": {
        "id": "W0L15c2kYEE_"
      },
      "source": [
        "# (입력 x 차원의 크기) - 차원의 크기는 사용자가 선정\n",
        "## 초기의 Weight 는 랜덤하게 결정\n",
        "W_in = np.random.randn(7, 3)"
      ],
      "execution_count": 72,
      "outputs": []
    },
    {
      "cell_type": "code",
      "metadata": {
        "id": "Smx72HWQYQAx"
      },
      "source": [
        "# 은닉층 값\n",
        "h = np.matmul(input, W_in) "
      ],
      "execution_count": 73,
      "outputs": []
    },
    {
      "cell_type": "code",
      "metadata": {
        "colab": {
          "base_uri": "https://localhost:8080/"
        },
        "id": "2YXTXmOUYTD2",
        "outputId": "8ce27be3-a3f9-47be-cbab-6347e2b888c6"
      },
      "source": [
        "print(h)"
      ],
      "execution_count": 74,
      "outputs": [
        {
          "output_type": "stream",
          "name": "stdout",
          "text": [
            "[[-0.15246184  0.40483246 -1.5847999 ]]\n"
          ]
        }
      ]
    },
    {
      "cell_type": "markdown",
      "metadata": {
        "id": "8O2qhBxYYbZ0"
      },
      "source": [
        "## 3.Hidden state x W_out = score\n",
        "Hidden state 값을 W_out과 곱해 score 추출\n"
      ]
    },
    {
      "cell_type": "code",
      "metadata": {
        "colab": {
          "base_uri": "https://localhost:8080/"
        },
        "id": "NjMwuZXWYkqd",
        "outputId": "85fd524c-2b0a-4d73-92c3-2fd3be75b8e3"
      },
      "source": [
        "W_out = np.random.randn(3, 7)\n",
        "score = np.matmul(h, W_out)\n",
        "print(np.round(score, 4))"
      ],
      "execution_count": 75,
      "outputs": [
        {
          "output_type": "stream",
          "name": "stdout",
          "text": [
            "[[-1.4894 -0.9158 -1.7142  0.0935 -0.9794 -0.7962 -5.1275]]\n"
          ]
        }
      ]
    },
    {
      "cell_type": "markdown",
      "metadata": {
        "id": "Aqllp_yjYzoE"
      },
      "source": [
        "## 4.softmax(score)\n",
        "score에 softmax를 취해서 각 단어가 나올 확률로 변환을 해줌"
      ]
    },
    {
      "cell_type": "code",
      "metadata": {
        "colab": {
          "base_uri": "https://localhost:8080/"
        },
        "id": "Sajz4MbjYTsH",
        "outputId": "847ee9e1-7b8a-41c8-efe1-513118a4978c"
      },
      "source": [
        "pred = softmax(score)\n",
        "print(np.round(pred, 4))"
      ],
      "execution_count": 76,
      "outputs": [
        {
          "output_type": "stream",
          "name": "stdout",
          "text": [
            "[[0.0824 0.1463 0.0658 0.4013 0.1372 0.1648 0.0022]]\n"
          ]
        }
      ]
    },
    {
      "cell_type": "markdown",
      "metadata": {
        "id": "Ww_slb9gZLnT"
      },
      "source": [
        "## 5.정답과 Cross Entropy Loss 계산\n",
        "정답 업데이트는 한 번에"
      ]
    },
    {
      "cell_type": "markdown",
      "metadata": {
        "id": "TZaDc_uKZTWr"
      },
      "source": [
        "## 6.5에서 계산한 Loss를 가지고 Backpropagation 과정을 통해 weight 업데이트\n",
        "- 두 개의 answer에 오차를 더함"
      ]
    },
    {
      "cell_type": "code",
      "metadata": {
        "colab": {
          "base_uri": "https://localhost:8080/"
        },
        "id": "ZJlk9A7lZGAr",
        "outputId": "57403dce-6cf4-4032-b047-7969dc21eb1e"
      },
      "source": [
        "ds1 = np.round(pred - output1, 4)\n",
        "ds2 = np.round(pred - output2, 4)\n",
        "ds = ds1 + ds2\n",
        "print(ds)"
      ],
      "execution_count": 77,
      "outputs": [
        {
          "output_type": "stream",
          "name": "stdout",
          "text": [
            "[[-0.8352  0.2926 -0.8684  0.8026  0.2744  0.3296  0.0044]]\n"
          ]
        }
      ]
    },
    {
      "cell_type": "code",
      "metadata": {
        "colab": {
          "base_uri": "https://localhost:8080/"
        },
        "id": "BK-I3DRgZie4",
        "outputId": "1374f0a3-8b18-404c-a00a-f32f294732c1"
      },
      "source": [
        " dw_out = np.round(np.outer(h, ds), 4)\n",
        " print(np.round(dw_out, 4))"
      ],
      "execution_count": 79,
      "outputs": [
        {
          "output_type": "stream",
          "name": "stdout",
          "text": [
            "[[ 1.2730e-01 -4.4600e-02  1.3240e-01 -1.2240e-01 -4.1800e-02 -5.0300e-02\n",
            "  -7.0000e-04]\n",
            " [-3.3810e-01  1.1850e-01 -3.5160e-01  3.2490e-01  1.1110e-01  1.3340e-01\n",
            "   1.8000e-03]\n",
            " [ 1.3236e+00 -4.6370e-01  1.3762e+00 -1.2720e+00 -4.3490e-01 -5.2240e-01\n",
            "  -7.0000e-03]]\n"
          ]
        }
      ]
    },
    {
      "cell_type": "code",
      "metadata": {
        "colab": {
          "base_uri": "https://localhost:8080/"
        },
        "id": "QHdp0joOeYA9",
        "outputId": "0d12f452-da80-4304-fbc7-0cbdc04bef79"
      },
      "source": [
        "da = np.dot(ds, W_out.T)\n",
        "print(np.round(da, 4))"
      ],
      "execution_count": 80,
      "outputs": [
        {
          "output_type": "stream",
          "name": "stdout",
          "text": [
            "[[-0.6844 -1.1482 -1.4806]]\n"
          ]
        }
      ]
    },
    {
      "cell_type": "code",
      "metadata": {
        "colab": {
          "base_uri": "https://localhost:8080/"
        },
        "id": "jLcY3c99egNc",
        "outputId": "50c75f1f-87eb-4e19-fe05-03a9d8fdad95"
      },
      "source": [
        "dw_in = np.outer(np.array([[0, 1, 0, 0, 0, 0, 0]]), da)\n",
        "print(np.round(dw_in, 4))"
      ],
      "execution_count": 81,
      "outputs": [
        {
          "output_type": "stream",
          "name": "stdout",
          "text": [
            "[[-0.     -0.     -0.    ]\n",
            " [-0.6844 -1.1482 -1.4806]\n",
            " [-0.     -0.     -0.    ]\n",
            " [-0.     -0.     -0.    ]\n",
            " [-0.     -0.     -0.    ]\n",
            " [-0.     -0.     -0.    ]\n",
            " [-0.     -0.     -0.    ]]\n"
          ]
        }
      ]
    },
    {
      "cell_type": "markdown",
      "metadata": {
        "id": "C8ebUnmPeqdD"
      },
      "source": [
        "```W_in```값을 update "
      ]
    },
    {
      "cell_type": "code",
      "metadata": {
        "colab": {
          "base_uri": "https://localhost:8080/"
        },
        "id": "wJF98WIUel6z",
        "outputId": "ed3bcc4b-9c83-4c35-e45c-3fedc7cdbdde"
      },
      "source": [
        "learning_rate = 1\n",
        "W_in_new = W_in - learning_rate * dw_in\n",
        "print(np.round(W_in_new, 4))"
      ],
      "execution_count": 82,
      "outputs": [
        {
          "output_type": "stream",
          "name": "stdout",
          "text": [
            "[[-0.0605 -0.4595  0.4204]\n",
            " [ 0.5319  1.553  -0.1042]\n",
            " [ 0.1175 -1.2151 -1.4647]\n",
            " [-0.6205 -0.5375  0.212 ]\n",
            " [-1.1247  0.4217 -0.052 ]\n",
            " [-0.6861 -0.077   1.7683]\n",
            " [-1.2858  0.7717  0.0048]]\n"
          ]
        }
      ]
    },
    {
      "cell_type": "code",
      "metadata": {
        "colab": {
          "base_uri": "https://localhost:8080/"
        },
        "id": "4fQuGn1Te1bp",
        "outputId": "5b9aee50-6143-4f4c-a62b-567c3b6862dd"
      },
      "source": [
        "print(np.round(W_in, 4))"
      ],
      "execution_count": 83,
      "outputs": [
        {
          "output_type": "stream",
          "name": "stdout",
          "text": [
            "[[-0.0605 -0.4595  0.4204]\n",
            " [-0.1525  0.4048 -1.5848]\n",
            " [ 0.1175 -1.2151 -1.4647]\n",
            " [-0.6205 -0.5375  0.212 ]\n",
            " [-1.1247  0.4217 -0.052 ]\n",
            " [-0.6861 -0.077   1.7683]\n",
            " [-1.2858  0.7717  0.0048]]\n"
          ]
        }
      ]
    },
    {
      "cell_type": "code",
      "metadata": {
        "colab": {
          "base_uri": "https://localhost:8080/"
        },
        "id": "h1VfTfZJe62b",
        "outputId": "78b32134-e114-41be-b5f3-20797eace9e3"
      },
      "source": [
        "learning_rate = 1\n",
        "W_out_new = W_out - learning_rate * dw_out\n",
        "print(np.round(W_out_new, 4))"
      ],
      "execution_count": 84,
      "outputs": [
        {
          "output_type": "stream",
          "name": "stdout",
          "text": [
            "[[-0.6686 -0.6569 -0.8771 -0.9833 -2.767   0.2844  0.7096]\n",
            " [ 0.0464 -1.3836  0.9125 -0.2994 -0.7465 -1.2845 -0.3013]\n",
            " [-0.4062  0.7859 -0.0796  1.3259  1.1608  0.7083  3.0978]]\n"
          ]
        }
      ]
    },
    {
      "cell_type": "code",
      "metadata": {
        "colab": {
          "base_uri": "https://localhost:8080/"
        },
        "id": "4kqHrcsPfFVB",
        "outputId": "f3fd6824-9362-4c97-d694-857eece241ef"
      },
      "source": [
        "print(np.round(W_out, 4))"
      ],
      "execution_count": 85,
      "outputs": [
        {
          "output_type": "stream",
          "name": "stdout",
          "text": [
            "[[-0.5413 -0.7015 -0.7447 -1.1057 -2.8088  0.2341  0.7089]\n",
            " [-0.2917 -1.2651  0.5609  0.0255 -0.6354 -1.1511 -0.2995]\n",
            " [ 0.9174  0.3222  1.2966  0.0539  0.7259  0.1859  3.0908]]\n"
          ]
        }
      ]
    },
    {
      "cell_type": "markdown",
      "metadata": {
        "id": "Th4kpBOlfqAI"
      },
      "source": [
        "skip-gram이 풀려는 문제가 CBOW보다 훨씬 어려움. "
      ]
    },
    {
      "cell_type": "markdown",
      "metadata": {
        "id": "3I-t9ITPgaVw"
      },
      "source": [
        "# 참고문헌\n",
        "- T Academy Recommendation2\n",
        "https://www.youtube.com/watch?v=3jfHP0Rq1Gg\n",
        "https://www.kaggle.com/chocozzz/t-academy-recommendation2/code"
      ]
    }
  ]
}